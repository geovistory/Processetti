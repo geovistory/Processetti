{
 "cells": [
  {
   "cell_type": "markdown",
   "metadata": {},
   "source": [
    "# Processetti\n",
    "<br>"
   ]
  },
  {
   "cell_type": "markdown",
   "metadata": {},
   "source": [
    "## Librerie\n",
    "\n",
    ">   Importazione"
   ]
  },
  {
   "cell_type": "code",
   "execution_count": 1,
   "metadata": {},
   "outputs": [],
   "source": [
    "import json\n",
    "import pprint\n",
    "from collections import Counter\n",
    "from operator import itemgetter\n",
    "import csv\n",
    "from dotmap import DotMap\n",
    "import numpy as np\n",
    "import matplotlib.pyplot as plt\n",
    "import pandas as pd\n",
    "import seaborn as sns"
   ]
  },
  {
   "cell_type": "markdown",
   "metadata": {},
   "source": [
    "-----------------"
   ]
  },
  {
   "cell_type": "markdown",
   "metadata": {},
   "source": [
    "## Funzioni locali"
   ]
  },
  {
   "cell_type": "code",
   "execution_count": 2,
   "metadata": {},
   "outputs": [],
   "source": [
    "# pulizzia delle stringhe\n",
    "\n",
    "def clean_up_str(string):\n",
    "    a = ''\n",
    "    if string:\n",
    "        a = string.replace('\\xa0', '').replace('  ', ' ').strip()\n",
    "    return a  "
   ]
  },
  {
   "cell_type": "code",
   "execution_count": 3,
   "metadata": {},
   "outputs": [],
   "source": [
    "# Funzione di elminazione delle dupplicazioni in leggenda\n",
    "##  https://stackoverflow.com/questions/19385639/duplicate-items-in-legend-in-matplotlib\n",
    "\n",
    "def legend_without_duplicate_labels(ax):\n",
    "    handles, labels = ax.get_legend_handles_labels()\n",
    "    unique = [(h, l) for i, (h, l) in enumerate(zip(handles, labels)) if l not in labels[:i]]\n",
    "    ax.legend(*zip(*unique))"
   ]
  },
  {
   "cell_type": "markdown",
   "metadata": {},
   "source": [
    "-------------"
   ]
  },
  {
   "cell_type": "markdown",
   "metadata": {},
   "source": [
    "## Preparazione dei dataset\n",
    "\n",
    "\n",
    "### Overwiev Processetti\n",
    "\n"
   ]
  },
  {
   "cell_type": "markdown",
   "metadata": {},
   "source": [
    "#### Appertura e ispezione dei file \n",
    "\n",
    "In questa sezione i dati vengono ispezionati una prima volta. Vengono importati gli _output_ scaricati da Geovistory \n",
    "\n",
    "I file contengono il risultato di un'interrogazione fatta in Geovistory, una tabella del dominio Analysis, con lo stesso nome, fatta nella data indicata nel nome del file. Se si vuole utilizzare un nuovo file, contenente nuovi dati, va scaricarlo da Geovistory, caricato nella cartella *geovistory_query_exports* e indicare l'indirizzo corretto nella cella seguente"
   ]
  },
  {
   "cell_type": "code",
   "execution_count": 9,
   "metadata": {},
   "outputs": [],
   "source": [
    "file_pro = 'geovistory_query_exports/nb_overwiev_processetti_20220510.json'"
   ]
  },
  {
   "cell_type": "code",
   "execution_count": 10,
   "metadata": {},
   "outputs": [],
   "source": [
    "# Aprire il file e attribirlo alla variabile *data* in forma di dizionario Python\n",
    "\n",
    "with open(file_pro, encoding='utf-8') as json_file:\n",
    "    data_pro = json.load(json_file)"
   ]
  },
  {
   "cell_type": "code",
   "execution_count": 11,
   "metadata": {},
   "outputs": [],
   "source": [
    "# Creare un oggetto DotMap con lo scopo di facilitare il lavoro sul file JSON\n",
    "dm_pro = DotMap(data_pro)"
   ]
  },
  {
   "cell_type": "code",
   "execution_count": 12,
   "metadata": {},
   "outputs": [],
   "source": [
    "# Creare una variabile contenente le righe\n",
    "dm_pro_r = dm_pro.rows"
   ]
  },
  {
   "cell_type": "markdown",
   "metadata": {},
   "source": [
    "> Riprendi descrizione\n",
    "### Trasformazione e messa in piano dei dati\n",
    "\n",
    "È necessario disporre di dati trasformati e misurati (sopprimendo in particolare i valori multipli per una singola variabile) per poter effettuare le analisi.\n",
    "\n",
    "La seguente procedura è stata applicata per creare una nuova tabella:\n",
    "- se esistevano più anni (per esempio l'anno di nascita), è stata scelta la media\n",
    "- se esistevano più occupazioni, tutte sono state mantenute e separate con un segno \"#\".\n",
    "- se esistevano più tipi di processetto, tutti sono stati mantenuti e separati con un segno \"#\".\n",
    "\n",
    "\n",
    "Qui sotto trovate un estratto di questa nuova tabella. Questa nuova tabella viene esportata automaticamente come documento csv. Puoi accedere e scaricare questo documento nel tuo jupyter-binder. Puoi aprirlo in Excel (via csv-import) e analizzarlo anche lì. Questo potrebbe aiutare a capire la struttura della tabella appena creata.\n",
    "\n",
    "Tradotto con www.DeepL.com/Translator (versione gratuita)\n",
    "> Riprendi descrizione"
   ]
  },
  {
   "cell_type": "code",
   "execution_count": 13,
   "metadata": {},
   "outputs": [
    {
     "data": {
      "text/plain": [
       "{'col_0': 'Volume',\n",
       " 'col_1': 'Unità archivistiche',\n",
       " 'col_2': 'Processetto di',\n",
       " 'col_3': 'Motivation Type',\n",
       " 'col_4': 'date',\n",
       " 'col_5': 'Union'}"
      ]
     },
     "execution_count": 13,
     "metadata": {},
     "output_type": "execute_result"
    }
   ],
   "source": [
    "data_pro['columns']"
   ]
  },
  {
   "cell_type": "code",
   "execution_count": 16,
   "metadata": {},
   "outputs": [
    {
     "name": "stdout",
     "output_type": "stream",
     "text": [
      "['EM 04', 'Processetto di Angela vedova di Francesco Giovanni Ochiati (da Venezia)', 1, 1270509, 'Angela vedova di Francesco Giovanni Ochiati (da Venezia)', 'Vedovanza', '1597-08-05', '1597-08-05', 1597, '1270524-1270537', 2]\n",
      "['EM 16', 'Processetto di Sebastiano di Gottardo Murari (da Verona) e Barbara di Antonio Furlani (veronese)', 1, 1986329, 'Sebastiano di Gottardo Murari (da Verona)', 'Vedovanza', '1620-01-12', '1620-01-12', 1620, '1986337-1986343', 2]\n",
      "['EM 16', 'Processetto di Caterina vedova di Manolo Manuelli (cretese)', 1, 2029147, 'Caterina vedova di Manolo Manuelli (cretese)', 'Vedovanza', '1620-02-15', '1620-02-15', 1620, '2029154-2107629', 2]\n",
      "['EM 17', 'Processetto di Marietta vedova di Ruggero Perei (moliner)', 1, 2215939, 'Marietta vedova di Ruggero Perei (moliner)', 'Vedovanza', '1620-10-02', '1620-10-02', 1620, '2215946-2215952', 2]\n"
     ]
    },
    {
     "data": {
      "text/html": [
       "<div>\n",
       "<style scoped>\n",
       "    .dataframe tbody tr th:only-of-type {\n",
       "        vertical-align: middle;\n",
       "    }\n",
       "\n",
       "    .dataframe tbody tr th {\n",
       "        vertical-align: top;\n",
       "    }\n",
       "\n",
       "    .dataframe thead th {\n",
       "        text-align: right;\n",
       "    }\n",
       "</style>\n",
       "<table border=\"1\" class=\"dataframe\">\n",
       "  <thead>\n",
       "    <tr style=\"text-align: right;\">\n",
       "      <th></th>\n",
       "      <th>volume</th>\n",
       "      <th>section</th>\n",
       "      <th>number_archival_units</th>\n",
       "      <th>id_enquiry</th>\n",
       "      <th>enquiry</th>\n",
       "      <th>motivation_type</th>\n",
       "      <th>start_date</th>\n",
       "      <th>end_date</th>\n",
       "      <th>anno</th>\n",
       "      <th>id_union</th>\n",
       "      <th>number_union</th>\n",
       "    </tr>\n",
       "  </thead>\n",
       "  <tbody>\n",
       "    <tr>\n",
       "      <th>0</th>\n",
       "      <td>EM 04</td>\n",
       "      <td>Processetto di Giovanni di Michele (da Cessalto)</td>\n",
       "      <td>1</td>\n",
       "      <td>1006519</td>\n",
       "      <td>Giovanni di Michele (da Cessalto)</td>\n",
       "      <td>Stato libero di “foresto”</td>\n",
       "      <td>1597-05-23</td>\n",
       "      <td>1597-05-23</td>\n",
       "      <td>1597.0</td>\n",
       "      <td>NaN</td>\n",
       "      <td>0</td>\n",
       "    </tr>\n",
       "    <tr>\n",
       "      <th>1</th>\n",
       "      <td>EM 05</td>\n",
       "      <td>Processetto di Francesco di Vincenzo Moscato (...</td>\n",
       "      <td>1</td>\n",
       "      <td>1006729</td>\n",
       "      <td>Francesco di Vincenzo Moscato (da Fabriano, te...</td>\n",
       "      <td>Stato libero di “foresto”</td>\n",
       "      <td>1598-12-27</td>\n",
       "      <td>1598-12-27</td>\n",
       "      <td>1598.0</td>\n",
       "      <td>NaN</td>\n",
       "      <td>0</td>\n",
       "    </tr>\n",
       "    <tr>\n",
       "      <th>2</th>\n",
       "      <td>EM 04</td>\n",
       "      <td>Processetto di Pietro di Gennaro Costinovi (da...</td>\n",
       "      <td>1</td>\n",
       "      <td>1006883</td>\n",
       "      <td>Pietro di Gennaro Costinovi (da Bergamo, tesse...</td>\n",
       "      <td>Stato libero di “foresto”</td>\n",
       "      <td>1597-05-26</td>\n",
       "      <td>1597-05-26</td>\n",
       "      <td>1597.0</td>\n",
       "      <td>NaN</td>\n",
       "      <td>0</td>\n",
       "    </tr>\n",
       "    <tr>\n",
       "      <th>3</th>\n",
       "      <td>EM 05</td>\n",
       "      <td>Processetto di Orsola di Angelo Collotis (da V...</td>\n",
       "      <td>1</td>\n",
       "      <td>1007147</td>\n",
       "      <td>Orsola di Angelo Collotis (da Visinale)</td>\n",
       "      <td>Stato libero di “foresto”</td>\n",
       "      <td>1598-12-29</td>\n",
       "      <td>1598-12-29</td>\n",
       "      <td>1598.0</td>\n",
       "      <td>NaN</td>\n",
       "      <td>0</td>\n",
       "    </tr>\n",
       "    <tr>\n",
       "      <th>4</th>\n",
       "      <td>EM 05</td>\n",
       "      <td>Processetto di Ortensia di Leonardo Verona (da...</td>\n",
       "      <td>1</td>\n",
       "      <td>1007355</td>\n",
       "      <td>Ortensia di Leonardo Verona (da Venzone)</td>\n",
       "      <td>Stato libero di “foresto”</td>\n",
       "      <td>1598-12-29</td>\n",
       "      <td>1598-12-29</td>\n",
       "      <td>1598.0</td>\n",
       "      <td>NaN</td>\n",
       "      <td>0</td>\n",
       "    </tr>\n",
       "    <tr>\n",
       "      <th>...</th>\n",
       "      <td>...</td>\n",
       "      <td>...</td>\n",
       "      <td>...</td>\n",
       "      <td>...</td>\n",
       "      <td>...</td>\n",
       "      <td>...</td>\n",
       "      <td>...</td>\n",
       "      <td>...</td>\n",
       "      <td>...</td>\n",
       "      <td>...</td>\n",
       "      <td>...</td>\n",
       "    </tr>\n",
       "    <tr>\n",
       "      <th>3413</th>\n",
       "      <td>EM 05</td>\n",
       "      <td>Processetto di Gaspare Forzanini (da Bassano, ...</td>\n",
       "      <td>1</td>\n",
       "      <td>998606</td>\n",
       "      <td>Gaspare Forzanini (da Bassano, calegher)</td>\n",
       "      <td>Stato libero di “foresto”</td>\n",
       "      <td>1598-12-18</td>\n",
       "      <td>1598-12-18</td>\n",
       "      <td>1598.0</td>\n",
       "      <td>NaN</td>\n",
       "      <td>0</td>\n",
       "    </tr>\n",
       "    <tr>\n",
       "      <th>3414</th>\n",
       "      <td>EM 04</td>\n",
       "      <td>Processetto di Cristina vedova di Nicola De Ga...</td>\n",
       "      <td>1</td>\n",
       "      <td>998615</td>\n",
       "      <td>Cristina vedova di Nicola De Gaspari (da Venezia)</td>\n",
       "      <td>Vedovanza</td>\n",
       "      <td>1597-05-20</td>\n",
       "      <td>1597-05-20</td>\n",
       "      <td>1597.0</td>\n",
       "      <td>998630</td>\n",
       "      <td>1</td>\n",
       "    </tr>\n",
       "    <tr>\n",
       "      <th>3415</th>\n",
       "      <td>EM 04</td>\n",
       "      <td>Processetto di Giovanni Maria di Antonio (da L...</td>\n",
       "      <td>1</td>\n",
       "      <td>998913</td>\n",
       "      <td>Giovanni Maria di Antonio (da Lovere, tesser d...</td>\n",
       "      <td>Vedovanza</td>\n",
       "      <td>1597-05-21</td>\n",
       "      <td>1597-05-21</td>\n",
       "      <td>1597.0</td>\n",
       "      <td>998922</td>\n",
       "      <td>1</td>\n",
       "    </tr>\n",
       "    <tr>\n",
       "      <th>3416</th>\n",
       "      <td>EM 05</td>\n",
       "      <td>Processetto di Andrea di Angelo Pasetto (da Ma...</td>\n",
       "      <td>1</td>\n",
       "      <td>999218</td>\n",
       "      <td>Andrea di Angelo Pasetto (da Magno, erbariol)</td>\n",
       "      <td>Stato libero di “foresto”</td>\n",
       "      <td>1598-12-21</td>\n",
       "      <td>1598-12-21</td>\n",
       "      <td>1598.0</td>\n",
       "      <td>NaN</td>\n",
       "      <td>0</td>\n",
       "    </tr>\n",
       "    <tr>\n",
       "      <th>3417</th>\n",
       "      <td>EM 04</td>\n",
       "      <td>Processetto di Giovanni di Antonio Maiti (da B...</td>\n",
       "      <td>1</td>\n",
       "      <td>999679</td>\n",
       "      <td>Giovanni di Antonio Maiti (da Bergamo)</td>\n",
       "      <td>Stato libero di “foresto”</td>\n",
       "      <td>1597-05-22</td>\n",
       "      <td>1597-05-22</td>\n",
       "      <td>1597.0</td>\n",
       "      <td>NaN</td>\n",
       "      <td>0</td>\n",
       "    </tr>\n",
       "  </tbody>\n",
       "</table>\n",
       "<p>3418 rows × 11 columns</p>\n",
       "</div>"
      ],
      "text/plain": [
       "     volume                                            section  \\\n",
       "0     EM 04   Processetto di Giovanni di Michele (da Cessalto)   \n",
       "1     EM 05  Processetto di Francesco di Vincenzo Moscato (...   \n",
       "2     EM 04  Processetto di Pietro di Gennaro Costinovi (da...   \n",
       "3     EM 05  Processetto di Orsola di Angelo Collotis (da V...   \n",
       "4     EM 05  Processetto di Ortensia di Leonardo Verona (da...   \n",
       "...     ...                                                ...   \n",
       "3413  EM 05  Processetto di Gaspare Forzanini (da Bassano, ...   \n",
       "3414  EM 04  Processetto di Cristina vedova di Nicola De Ga...   \n",
       "3415  EM 04  Processetto di Giovanni Maria di Antonio (da L...   \n",
       "3416  EM 05  Processetto di Andrea di Angelo Pasetto (da Ma...   \n",
       "3417  EM 04  Processetto di Giovanni di Antonio Maiti (da B...   \n",
       "\n",
       "      number_archival_units  id_enquiry  \\\n",
       "0                         1     1006519   \n",
       "1                         1     1006729   \n",
       "2                         1     1006883   \n",
       "3                         1     1007147   \n",
       "4                         1     1007355   \n",
       "...                     ...         ...   \n",
       "3413                      1      998606   \n",
       "3414                      1      998615   \n",
       "3415                      1      998913   \n",
       "3416                      1      999218   \n",
       "3417                      1      999679   \n",
       "\n",
       "                                                enquiry  \\\n",
       "0                     Giovanni di Michele (da Cessalto)   \n",
       "1     Francesco di Vincenzo Moscato (da Fabriano, te...   \n",
       "2     Pietro di Gennaro Costinovi (da Bergamo, tesse...   \n",
       "3               Orsola di Angelo Collotis (da Visinale)   \n",
       "4              Ortensia di Leonardo Verona (da Venzone)   \n",
       "...                                                 ...   \n",
       "3413           Gaspare Forzanini (da Bassano, calegher)   \n",
       "3414  Cristina vedova di Nicola De Gaspari (da Venezia)   \n",
       "3415  Giovanni Maria di Antonio (da Lovere, tesser d...   \n",
       "3416      Andrea di Angelo Pasetto (da Magno, erbariol)   \n",
       "3417             Giovanni di Antonio Maiti (da Bergamo)   \n",
       "\n",
       "                motivation_type  start_date    end_date    anno id_union  \\\n",
       "0     Stato libero di “foresto”  1597-05-23  1597-05-23  1597.0      NaN   \n",
       "1     Stato libero di “foresto”  1598-12-27  1598-12-27  1598.0      NaN   \n",
       "2     Stato libero di “foresto”  1597-05-26  1597-05-26  1597.0      NaN   \n",
       "3     Stato libero di “foresto”  1598-12-29  1598-12-29  1598.0      NaN   \n",
       "4     Stato libero di “foresto”  1598-12-29  1598-12-29  1598.0      NaN   \n",
       "...                         ...         ...         ...     ...      ...   \n",
       "3413  Stato libero di “foresto”  1598-12-18  1598-12-18  1598.0      NaN   \n",
       "3414                  Vedovanza  1597-05-20  1597-05-20  1597.0   998630   \n",
       "3415                  Vedovanza  1597-05-21  1597-05-21  1597.0   998922   \n",
       "3416  Stato libero di “foresto”  1598-12-21  1598-12-21  1598.0      NaN   \n",
       "3417  Stato libero di “foresto”  1597-05-22  1597-05-22  1597.0      NaN   \n",
       "\n",
       "      number_union  \n",
       "0                0  \n",
       "1                0  \n",
       "2                0  \n",
       "3                0  \n",
       "4                0  \n",
       "...            ...  \n",
       "3413             0  \n",
       "3414             1  \n",
       "3415             1  \n",
       "3416             0  \n",
       "3417             0  \n",
       "\n",
       "[3418 rows x 11 columns]"
      ]
     },
     "execution_count": 16,
     "metadata": {},
     "output_type": "execute_result"
    }
   ],
   "source": [
    "### Processetti list = psl\n",
    "\n",
    "psl=[['volume', 'section', 'number_archival_units', 'id_enquiry', 'enquiry', 'motivation_type',\n",
    " 'start_date','end_date', 'anno', 'id_union', 'number_union']]\n",
    "\n",
    "\n",
    "for r in dm_pro_r:\n",
    "    element = []\n",
    "    # volume\n",
    "    element += ['-'.join([v.entity_label for v in r.col_0.entities])]   \n",
    "\n",
    "    # sezione (unità archivistica)\n",
    "    element += [clean_up_str(r.col_1.entities[0].entity_label)]\n",
    "\n",
    "    # numero di section per enquiry \n",
    "    element += [len(r.col_1.entities)]\n",
    "\n",
    "    # enquiry \n",
    "    element += [r.col_2.entity.pk_entity, clean_up_str(r.col_2.entity.entity_label)]\n",
    "   \n",
    "    # mtivation type\n",
    "    element += [clean_up_str('; '.join([v.entity_label for v in r.col_3.entities]))]\n",
    "\n",
    "    # arco e anno processetto\n",
    "    valor = []\n",
    "    if len(r.col_4['values']) == 0:\n",
    "        element += [np.nan, np.nan, np.nan]\n",
    "    else:\n",
    "        for v in  r.col_4['values']:\n",
    "            valor.append(int(v.value.timePrimitive.label[:4]))\n",
    "        element += [r.col_4['values'][0]['value'].timePrimitive.label[:10], r.col_4[\n",
    "            'values'][len(r.col_4['values'])-1]['value'].timePrimitive.label[:10], round(np.mean(valor))]\n",
    "\n",
    "    # union\n",
    "    if len(r.col_5.entities)==1:\n",
    "        element += [r.col_5.entities[0].pk_entity, len(r.col_5.entities)]\n",
    "        \n",
    "    elif len(r.col_5.entities)>1:\n",
    "        element += ['-'.join([str(v.pk_entity) for v in r.col_5.entities]), len(r.col_5.entities)]  \n",
    "        print(element)\n",
    "    else:\n",
    "        element += [np.nan, 0]\n",
    "        \n",
    "    psl.append(element)\n",
    "    \n",
    "\n",
    "proc_df = pd.DataFrame(psl[1:], columns=psl[0])  \n",
    "proc_df.head()\n",
    "    \n",
    "\n",
    "        \n",
    "   \n"
   ]
  },
  {
   "cell_type": "markdown",
   "metadata": {},
   "source": [
    "> Da sviluppare sulla base delle esigenze di ricerca"
   ]
  },
  {
   "cell_type": "markdown",
   "metadata": {},
   "source": [
    "### Richiedenti"
   ]
  },
  {
   "cell_type": "markdown",
   "metadata": {},
   "source": [
    "> __Riprendi da qui__"
   ]
  },
  {
   "cell_type": "code",
   "execution_count": null,
   "metadata": {},
   "outputs": [],
   "source": [
    "file_ric = 'geovistory_query_exports/nb_richiedenti_20220510.json'\n",
    "\n",
    "with open(file_ric, encoding='utf8') as json_file:\n",
    "    data_ric = json.load(json_file)\n",
    "\n",
    "dm_ric = DotMap(data_ric)\n",
    "\n",
    "dm_ric_r = dm_ric.ro ## Riprendi da qui "
   ]
  },
  {
   "cell_type": "markdown",
   "metadata": {},
   "source": [
    "### Testimoni"
   ]
  },
  {
   "cell_type": "code",
   "execution_count": null,
   "metadata": {},
   "outputs": [],
   "source": []
  },
  {
   "cell_type": "markdown",
   "metadata": {},
   "source": [
    "### Defunti"
   ]
  },
  {
   "cell_type": "markdown",
   "metadata": {},
   "source": [
    "> Richiede una diversa elaboraizone "
   ]
  },
  {
   "cell_type": "markdown",
   "metadata": {},
   "source": []
  },
  {
   "cell_type": "code",
   "execution_count": null,
   "metadata": {},
   "outputs": [],
   "source": []
  },
  {
   "cell_type": "markdown",
   "metadata": {},
   "source": [
    "---------------------"
   ]
  },
  {
   "cell_type": "code",
   "execution_count": null,
   "metadata": {},
   "outputs": [],
   "source": []
  }
 ],
 "metadata": {
  "interpreter": {
   "hash": "3ab005c53620d4c959ac9d2f9b2f58f953f9965d1640dd4ad9164af5e9649374"
  },
  "kernelspec": {
   "display_name": "Python 3.9.7 64-bit ('v_env_surog': venv)",
   "language": "python",
   "name": "python3"
  },
  "language_info": {
   "codemirror_mode": {
    "name": "ipython",
    "version": 3
   },
   "file_extension": ".py",
   "mimetype": "text/x-python",
   "name": "python",
   "nbconvert_exporter": "python",
   "pygments_lexer": "ipython3",
   "version": "3.9.12"
  },
  "orig_nbformat": 4
 },
 "nbformat": 4,
 "nbformat_minor": 2
}
